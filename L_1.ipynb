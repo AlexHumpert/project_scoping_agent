{
 "cells": [
  {
   "cell_type": "markdown",
   "id": "bae53a09-c04c-4916-a146-00e0bb188954",
   "metadata": {},
   "source": [
    "# L1: Automated Project: Planning, Estimation, and Allocation"
   ]
  },
  {
   "cell_type": "markdown",
   "id": "2a4058e8-a52c-4365-ac27-da08b67d7fb8",
   "metadata": {},
   "source": [
    "<p style=\"background-color:#fff6e4; padding:15px; border-width:3px; border-color:#f5ecda; border-style:solid; border-radius:6px\"> ⏳ <b>Note <code>(Kernel Starting)</code>:</b> This notebook takes about 30 seconds to be ready to use. You may start and watch the video while you wait.</p>"
   ]
  },
  {
   "cell_type": "markdown",
   "id": "30ada5b1-06ec-41e8-8f60-5e0e0d389ffb",
   "metadata": {},
   "source": [
    "## Initial Imports"
   ]
  },
  {
   "cell_type": "code",
   "execution_count": 1,
   "id": "4193708e-9802-4161-844a-735f6361e24d",
   "metadata": {
    "height": 200
   },
   "outputs": [],
   "source": [
    "# Warning control\n",
    "import warnings\n",
    "warnings.filterwarnings('ignore')\n",
    "\n",
    "# Load environment variables\n",
    "from helper import load_env\n",
    "load_env()\n",
    "\n",
    "import os\n",
    "import yaml\n",
    "from crewai import Agent, Task, Crew"
   ]
  },
  {
   "cell_type": "markdown",
   "id": "66752d49-82ae-4b58-b76b-fc57c6b5f23e",
   "metadata": {},
   "source": [
    "<p style=\"background-color:#fff6ff; padding:15px; border-width:3px; border-color:#efe6ef; border-style:solid; border-radius:6px\"> 💻 &nbsp; <b>Access <code>requirements.txt</code> and <code>helper.py</code> files:</b> 1) click on the <em>\"File\"</em> option on the top menu of the notebook and then 2) click on <em>\"Open\"</em>. For more help, please see the <em>\"Appendix - Tips and Help\"</em> Lesson.</p>"
   ]
  },
  {
   "cell_type": "markdown",
   "id": "b930b575-a2d5-467b-878f-de78e10b6ba5",
   "metadata": {},
   "source": [
    "## Set OpenAI Model"
   ]
  },
  {
   "cell_type": "code",
   "execution_count": 2,
   "id": "91cb8100-3058-4cdc-969b-c64a46a408e4",
   "metadata": {
    "height": 30
   },
   "outputs": [],
   "source": [
    "os.environ['OPENAI_MODEL_NAME'] = 'gpt-4o-mini'"
   ]
  },
  {
   "cell_type": "markdown",
   "id": "96b83836-9ccb-47d7-a97b-9a68aebfaa42",
   "metadata": {},
   "source": [
    "## Loading Tasks and Agents YAML files"
   ]
  },
  {
   "cell_type": "code",
   "execution_count": null,
   "id": "5a4e362d-c010-43dd-88c4-e7db87834fb4",
   "metadata": {
    "height": 268
   },
   "outputs": [
    {
     "ename": "FileNotFoundError",
     "evalue": "[Errno 2] No such file or directory: 'config/agents.yaml'",
     "output_type": "error",
     "traceback": [
      "\u001b[0;31m---------------------------------------------------------------------------\u001b[0m",
      "\u001b[0;31mFileNotFoundError\u001b[0m                         Traceback (most recent call last)",
      "Cell \u001b[0;32mIn[3], line 10\u001b[0m\n\u001b[1;32m      8\u001b[0m configs \u001b[38;5;241m=\u001b[39m {}\n\u001b[1;32m      9\u001b[0m \u001b[38;5;28;01mfor\u001b[39;00m config_type, file_path \u001b[38;5;129;01min\u001b[39;00m files\u001b[38;5;241m.\u001b[39mitems():\n\u001b[0;32m---> 10\u001b[0m     \u001b[38;5;28;01mwith\u001b[39;00m \u001b[38;5;28;43mopen\u001b[39;49m\u001b[43m(\u001b[49m\u001b[43mfile_path\u001b[49m\u001b[43m,\u001b[49m\u001b[43m \u001b[49m\u001b[38;5;124;43m'\u001b[39;49m\u001b[38;5;124;43mr\u001b[39;49m\u001b[38;5;124;43m'\u001b[39;49m\u001b[43m)\u001b[49m \u001b[38;5;28;01mas\u001b[39;00m file:\n\u001b[1;32m     11\u001b[0m         configs[config_type] \u001b[38;5;241m=\u001b[39m yaml\u001b[38;5;241m.\u001b[39msafe_load(file)\n\u001b[1;32m     13\u001b[0m \u001b[38;5;66;03m# Assign loaded configurations to specific variables\u001b[39;00m\n",
      "File \u001b[0;32m~/miniconda3/envs/agent_apps/lib/python3.11/site-packages/IPython/core/interactiveshell.py:324\u001b[0m, in \u001b[0;36m_modified_open\u001b[0;34m(file, *args, **kwargs)\u001b[0m\n\u001b[1;32m    317\u001b[0m \u001b[38;5;28;01mif\u001b[39;00m file \u001b[38;5;129;01min\u001b[39;00m {\u001b[38;5;241m0\u001b[39m, \u001b[38;5;241m1\u001b[39m, \u001b[38;5;241m2\u001b[39m}:\n\u001b[1;32m    318\u001b[0m     \u001b[38;5;28;01mraise\u001b[39;00m \u001b[38;5;167;01mValueError\u001b[39;00m(\n\u001b[1;32m    319\u001b[0m         \u001b[38;5;124mf\u001b[39m\u001b[38;5;124m\"\u001b[39m\u001b[38;5;124mIPython won\u001b[39m\u001b[38;5;124m'\u001b[39m\u001b[38;5;124mt let you open fd=\u001b[39m\u001b[38;5;132;01m{\u001b[39;00mfile\u001b[38;5;132;01m}\u001b[39;00m\u001b[38;5;124m by default \u001b[39m\u001b[38;5;124m\"\u001b[39m\n\u001b[1;32m    320\u001b[0m         \u001b[38;5;124m\"\u001b[39m\u001b[38;5;124mas it is likely to crash IPython. If you know what you are doing, \u001b[39m\u001b[38;5;124m\"\u001b[39m\n\u001b[1;32m    321\u001b[0m         \u001b[38;5;124m\"\u001b[39m\u001b[38;5;124myou can use builtins\u001b[39m\u001b[38;5;124m'\u001b[39m\u001b[38;5;124m open.\u001b[39m\u001b[38;5;124m\"\u001b[39m\n\u001b[1;32m    322\u001b[0m     )\n\u001b[0;32m--> 324\u001b[0m \u001b[38;5;28;01mreturn\u001b[39;00m \u001b[43mio_open\u001b[49m\u001b[43m(\u001b[49m\u001b[43mfile\u001b[49m\u001b[43m,\u001b[49m\u001b[43m \u001b[49m\u001b[38;5;241;43m*\u001b[39;49m\u001b[43margs\u001b[49m\u001b[43m,\u001b[49m\u001b[43m \u001b[49m\u001b[38;5;241;43m*\u001b[39;49m\u001b[38;5;241;43m*\u001b[39;49m\u001b[43mkwargs\u001b[49m\u001b[43m)\u001b[49m\n",
      "\u001b[0;31mFileNotFoundError\u001b[0m: [Errno 2] No such file or directory: 'config/agents.yaml'"
     ]
    }
   ],
   "source": [
    "# Define file paths for YAML configurations\n",
    "files = {\n",
    "    'agents': 'config/agents.yaml',\n",
    "    'tasks': 'config/tasks.yaml'\n",
    "}\n",
    "\n",
    "# Load configurations from YAML files\n",
    "configs = {}\n",
    "for config_type, file_path in files.items():\n",
    "    with open(file_path, 'r') as file:\n",
    "        configs[config_type] = yaml.safe_load(file)\n",
    "\n",
    "# Assign loaded configurations to specific variables\n",
    "agents_config = configs['agents']\n",
    "tasks_config = configs['tasks']"
   ]
  },
  {
   "cell_type": "markdown",
   "id": "c5f50c89-a326-4e4c-93a1-79be3fcda14b",
   "metadata": {},
   "source": [
    "## Create Pydantic Models for Structured Output"
   ]
  },
  {
   "cell_type": "code",
   "execution_count": null,
   "id": "0e8626d2-e48a-4b7e-a061-a8eb492c9036",
   "metadata": {
    "height": 268
   },
   "outputs": [],
   "source": [
    "from typing import List\n",
    "from pydantic import BaseModel, Field\n",
    "\n",
    "class TaskEstimate(BaseModel):\n",
    "    task_name: str = Field(..., description=\"Name of the task\")\n",
    "    estimated_time_hours: float = Field(..., description=\"Estimated time to complete the task in hours\")\n",
    "    required_resources: List[str] = Field(..., description=\"List of resources required to complete the task\")\n",
    "\n",
    "class Milestone(BaseModel):\n",
    "    milestone_name: str = Field(..., description=\"Name of the milestone\")\n",
    "    tasks: List[str] = Field(..., description=\"List of task IDs associated with this milestone\")\n",
    "\n",
    "class ProjectPlan(BaseModel):\n",
    "    tasks: List[TaskEstimate] = Field(..., description=\"List of tasks with their estimates\")\n",
    "    milestones: List[Milestone] = Field(..., description=\"List of project milestones\")"
   ]
  },
  {
   "cell_type": "markdown",
   "id": "92d6524c-48e7-460e-8345-3b7a872b714a",
   "metadata": {},
   "source": [
    "## Create Crew, Agents and Tasks"
   ]
  },
  {
   "cell_type": "code",
   "execution_count": null,
   "id": "a655927f-c10c-4c06-852a-d9c96fdfbfb9",
   "metadata": {
    "height": 761
   },
   "outputs": [],
   "source": [
    "# Creating Agents\n",
    "project_planning_agent = Agent(\n",
    "  config=agents_config['project_planning_agent']\n",
    ")\n",
    "\n",
    "estimation_agent = Agent(\n",
    "  config=agents_config['estimation_agent']\n",
    ")\n",
    "\n",
    "resource_allocation_agent = Agent(\n",
    "  config=agents_config['resource_allocation_agent']\n",
    ")\n",
    "\n",
    "# Creating Tasks\n",
    "task_breakdown = Task(\n",
    "  config=tasks_config['task_breakdown'],\n",
    "  agent=project_planning_agent\n",
    ")\n",
    "\n",
    "time_resource_estimation = Task(\n",
    "  config=tasks_config['time_resource_estimation'],\n",
    "  agent=estimation_agent\n",
    ")\n",
    "\n",
    "resource_allocation = Task(\n",
    "  config=tasks_config['resource_allocation'],\n",
    "  agent=resource_allocation_agent,\n",
    "  output_pydantic=ProjectPlan # This is the structured output we want\n",
    ")\n",
    "\n",
    "# Creating Crew\n",
    "crew = Crew(\n",
    "  agents=[\n",
    "    project_planning_agent,\n",
    "    estimation_agent,\n",
    "    resource_allocation_agent\n",
    "  ],\n",
    "  tasks=[\n",
    "    task_breakdown,\n",
    "    time_resource_estimation,\n",
    "    resource_allocation\n",
    "  ],\n",
    "  verbose=True\n",
    ")"
   ]
  },
  {
   "cell_type": "markdown",
   "id": "51b901cf-3630-4662-81a7-762da6773d3b",
   "metadata": {},
   "source": [
    "## Crew's Inputs"
   ]
  },
  {
   "cell_type": "code",
   "execution_count": null,
   "id": "9e861574-0f9b-4f2c-b2d1-a230fc3a53a3",
   "metadata": {
    "height": 693
   },
   "outputs": [],
   "source": [
    "from IPython.display import display, Markdown\n",
    "\n",
    "project = 'Website'\n",
    "industry = 'Technology'\n",
    "project_objectives = 'Create a website for a small business'\n",
    "team_members = \"\"\"\n",
    "- John Doe (Project Manager)\n",
    "- Jane Doe (Software Engineer)\n",
    "- Bob Smith (Designer)\n",
    "- Alice Johnson (QA Engineer)\n",
    "- Tom Brown (QA Engineer)\n",
    "\"\"\"\n",
    "project_requirements = \"\"\"\n",
    "- Create a responsive design that works well on desktop and mobile devices\n",
    "- Implement a modern, visually appealing user interface with a clean look\n",
    "- Develop a user-friendly navigation system with intuitive menu structure\n",
    "- Include an \"About Us\" page highlighting the company's history and values\n",
    "- Design a \"Services\" page showcasing the business's offerings with descriptions\n",
    "- Create a \"Contact Us\" page with a form and integrated map for communication\n",
    "- Implement a blog section for sharing industry news and company updates\n",
    "- Ensure fast loading times and optimize for search engines (SEO)\n",
    "- Integrate social media links and sharing capabilities\n",
    "- Include a testimonials section to showcase customer feedback and build trust\n",
    "\"\"\"\n",
    "\n",
    "# Format the dictionary as Markdown for a better display in Jupyter Lab\n",
    "formatted_output = f\"\"\"\n",
    "**Project Type:** {project}\n",
    "\n",
    "**Project Objectives:** {project_objectives}\n",
    "\n",
    "**Industry:** {industry}\n",
    "\n",
    "**Team Members:**\n",
    "{team_members}\n",
    "**Project Requirements:**\n",
    "{project_requirements}\n",
    "\"\"\"\n",
    "# Display the formatted output as Markdown\n",
    "display(Markdown(formatted_output))"
   ]
  },
  {
   "cell_type": "markdown",
   "id": "15198e13-e9ec-44d8-b15e-c97b7b7320bb",
   "metadata": {},
   "source": [
    "## Kicking off the crew"
   ]
  },
  {
   "cell_type": "code",
   "execution_count": null,
   "id": "fa40b53e-0a49-4198-a263-c79a6a3af603",
   "metadata": {
    "height": 234
   },
   "outputs": [],
   "source": [
    "# The given Python dictionary\n",
    "inputs = {\n",
    "  'project_type': project,\n",
    "  'project_objectives': project_objectives,\n",
    "  'industry': industry,\n",
    "  'team_members': team_members,\n",
    "  'project_requirements': project_requirements\n",
    "}\n",
    "\n",
    "# Run the crew\n",
    "result = crew.kickoff(\n",
    "  inputs=inputs\n",
    ")"
   ]
  },
  {
   "cell_type": "markdown",
   "id": "7879258f-52df-4503-b08e-acd516d0a946",
   "metadata": {},
   "source": [
    "## Usage Metrics and Costs"
   ]
  },
  {
   "cell_type": "markdown",
   "id": "d94dad33-91c9-4aac-8e16-24117dbbef46",
   "metadata": {},
   "source": [
    "Let’s see how much it would cost each time if this crew runs at scale."
   ]
  },
  {
   "cell_type": "code",
   "execution_count": null,
   "id": "66b3b165-2a4b-46cc-93f7-696dffff1e10",
   "metadata": {
    "height": 149
   },
   "outputs": [],
   "source": [
    "import pandas as pd\n",
    "\n",
    "costs = 0.150 * (crew.usage_metrics.prompt_tokens + crew.usage_metrics.completion_tokens) / 1_000_000\n",
    "print(f\"Total costs: ${costs:.4f}\")\n",
    "\n",
    "# Convert UsageMetrics instance to a DataFrame\n",
    "df_usage_metrics = pd.DataFrame([crew.usage_metrics.dict()])\n",
    "df_usage_metrics"
   ]
  },
  {
   "cell_type": "markdown",
   "id": "4982e83a-9e54-4510-9f06-751b34848287",
   "metadata": {},
   "source": [
    "## Result"
   ]
  },
  {
   "cell_type": "code",
   "execution_count": null,
   "id": "6396b0f6-e3ae-4a89-a3e9-ca53aa042c40",
   "metadata": {
    "height": 30
   },
   "outputs": [],
   "source": [
    "result.pydantic.dict()"
   ]
  },
  {
   "cell_type": "markdown",
   "id": "18ffcc83-350e-4f99-b03b-458690cc0ed2",
   "metadata": {},
   "source": [
    "## Inspect further"
   ]
  },
  {
   "cell_type": "code",
   "execution_count": null,
   "id": "da1bbf90-4bfc-4529-84dd-d0bd00198353",
   "metadata": {
    "height": 132
   },
   "outputs": [],
   "source": [
    "tasks = result.pydantic.dict()['tasks']\n",
    "df_tasks = pd.DataFrame(tasks)\n",
    "\n",
    "# Display the DataFrame as an HTML table\n",
    "df_tasks.style.set_table_attributes('border=\"1\"').set_caption(\"Task Details\").set_table_styles(\n",
    "    [{'selector': 'th, td', 'props': [('font-size', '120%')]}]\n",
    ")"
   ]
  },
  {
   "cell_type": "markdown",
   "id": "1210cae8-e028-4f7e-90ed-950ef86d41e5",
   "metadata": {},
   "source": [
    "### Inspecting Milestones"
   ]
  },
  {
   "cell_type": "code",
   "execution_count": null,
   "id": "91c2f18c-2d5b-41a9-837b-265e7aa245d0",
   "metadata": {
    "height": 132
   },
   "outputs": [],
   "source": [
    "milestones = result.pydantic.dict()['milestones']\n",
    "df_milestones = pd.DataFrame(milestones)\n",
    "\n",
    "# Display the DataFrame as an HTML table\n",
    "df_milestones.style.set_table_attributes('border=\"1\"').set_caption(\"Task Details\").set_table_styles(\n",
    "    [{'selector': 'th, td', 'props': [('font-size', '120%')]}]\n",
    ")"
   ]
  },
  {
   "cell_type": "code",
   "execution_count": null,
   "id": "a593fd80-36ef-48a1-a7c7-e45c37815f67",
   "metadata": {
    "height": 30
   },
   "outputs": [],
   "source": []
  },
  {
   "cell_type": "code",
   "execution_count": null,
   "id": "2e2c2526-de6d-4006-bd25-8c51e1f3d5f7",
   "metadata": {
    "height": 30
   },
   "outputs": [],
   "source": []
  },
  {
   "cell_type": "code",
   "execution_count": null,
   "id": "1ac3e1e0-e14f-446e-a912-18794337925c",
   "metadata": {
    "height": 30
   },
   "outputs": [],
   "source": []
  },
  {
   "cell_type": "code",
   "execution_count": null,
   "id": "c34b5062-29e2-4fbb-b771-02f5f547e47c",
   "metadata": {
    "height": 30
   },
   "outputs": [],
   "source": []
  },
  {
   "cell_type": "code",
   "execution_count": null,
   "id": "70303180-389e-4e90-8444-aba384ec8751",
   "metadata": {
    "height": 30
   },
   "outputs": [],
   "source": []
  },
  {
   "cell_type": "code",
   "execution_count": null,
   "id": "109926d3-50e5-43e7-87f8-a1d38e45d79d",
   "metadata": {
    "height": 30
   },
   "outputs": [],
   "source": []
  }
 ],
 "metadata": {
  "kernelspec": {
   "display_name": "agent_apps",
   "language": "python",
   "name": "python3"
  },
  "language_info": {
   "codemirror_mode": {
    "name": "ipython",
    "version": 3
   },
   "file_extension": ".py",
   "mimetype": "text/x-python",
   "name": "python",
   "nbconvert_exporter": "python",
   "pygments_lexer": "ipython3",
   "version": "3.11.10"
  }
 },
 "nbformat": 4,
 "nbformat_minor": 5
}
